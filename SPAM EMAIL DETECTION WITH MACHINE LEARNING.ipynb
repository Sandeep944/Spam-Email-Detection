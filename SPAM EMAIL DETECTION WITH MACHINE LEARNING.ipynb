{
 "cells": [
  {
   "cell_type": "markdown",
   "metadata": {},
   "source": [
    "# SPAM EMAIL DETECTION WITH MACHINE LEARNING"
   ]
  },
  {
   "cell_type": "markdown",
   "metadata": {},
   "source": [
    "**In this project, we will use Python to create an email spam detection system. Our goal is to train a machine learning model that can classify emails as either spam or non-spam (ham). This will help us filter out unwanted and potentially harmful emails from our inbox. We'll follow the standard data science workflow, including data loading, preprocessing, feature extraction, model training, evaluation, and prediction. Let's begin building our email spam detector!** "
   ]
  },
  {
   "cell_type": "markdown",
   "metadata": {},
   "source": [
    "## **Understanding the Data**"
   ]
  },
  {
   "cell_type": "code",
   "execution_count": 87,
   "metadata": {
    "_cell_guid": "b1076dfc-b9ad-4769-8c92-a6c4dae69d19",
    "_uuid": "8f2839f25d086af736a60e9eeb907d3b93b6e0e5",
    "execution": {
     "iopub.execute_input": "2023-09-14T15:10:14.682605Z",
     "iopub.status.busy": "2023-09-14T15:10:14.68211Z",
     "iopub.status.idle": "2023-09-14T15:10:14.692714Z",
     "shell.execute_reply": "2023-09-14T15:10:14.691198Z",
     "shell.execute_reply.started": "2023-09-14T15:10:14.682559Z"
    }
   },
   "outputs": [],
   "source": [
    "#importing libraries\n",
    "\n",
    "import pandas as pd\n",
    "import numpy as np\n",
    "from sklearn.model_selection import train_test_split\n",
    "from sklearn.feature_extraction.text import TfidfVectorizer\n",
    "from sklearn.linear_model import LogisticRegression\n",
    "from sklearn.metrics import accuracy_score, confusion_matrix, roc_curve, roc_auc_score\n",
    "import nltk\n",
    "from nltk.corpus import stopwords\n",
    "from collections import Counter\n",
    "\n",
    "\n",
    "#libraries for data visualization\n",
    "import matplotlib.pyplot as plt\n",
    "import seaborn as sns\n",
    "%matplotlib inline"
   ]
  },
  {
   "cell_type": "code",
   "execution_count": 88,
   "metadata": {
    "execution": {
     "iopub.execute_input": "2023-09-14T15:10:14.699543Z",
     "iopub.status.busy": "2023-09-14T15:10:14.699178Z",
     "iopub.status.idle": "2023-09-14T15:10:14.746716Z",
     "shell.execute_reply": "2023-09-14T15:10:14.745376Z",
     "shell.execute_reply.started": "2023-09-14T15:10:14.699514Z"
    }
   },
   "outputs": [
    {
     "data": {
      "text/html": [
       "<div>\n",
       "<style scoped>\n",
       "    .dataframe tbody tr th:only-of-type {\n",
       "        vertical-align: middle;\n",
       "    }\n",
       "\n",
       "    .dataframe tbody tr th {\n",
       "        vertical-align: top;\n",
       "    }\n",
       "\n",
       "    .dataframe thead th {\n",
       "        text-align: right;\n",
       "    }\n",
       "</style>\n",
       "<table border=\"1\" class=\"dataframe\">\n",
       "  <thead>\n",
       "    <tr style=\"text-align: right;\">\n",
       "      <th></th>\n",
       "      <th>v1</th>\n",
       "      <th>v2</th>\n",
       "      <th>Unnamed: 2</th>\n",
       "      <th>Unnamed: 3</th>\n",
       "      <th>Unnamed: 4</th>\n",
       "    </tr>\n",
       "  </thead>\n",
       "  <tbody>\n",
       "    <tr>\n",
       "      <th>0</th>\n",
       "      <td>ham</td>\n",
       "      <td>Go until jurong point, crazy.. Available only ...</td>\n",
       "      <td>NaN</td>\n",
       "      <td>NaN</td>\n",
       "      <td>NaN</td>\n",
       "    </tr>\n",
       "    <tr>\n",
       "      <th>1</th>\n",
       "      <td>ham</td>\n",
       "      <td>Ok lar... Joking wif u oni...</td>\n",
       "      <td>NaN</td>\n",
       "      <td>NaN</td>\n",
       "      <td>NaN</td>\n",
       "    </tr>\n",
       "    <tr>\n",
       "      <th>2</th>\n",
       "      <td>spam</td>\n",
       "      <td>Free entry in 2 a wkly comp to win FA Cup fina...</td>\n",
       "      <td>NaN</td>\n",
       "      <td>NaN</td>\n",
       "      <td>NaN</td>\n",
       "    </tr>\n",
       "    <tr>\n",
       "      <th>3</th>\n",
       "      <td>ham</td>\n",
       "      <td>U dun say so early hor... U c already then say...</td>\n",
       "      <td>NaN</td>\n",
       "      <td>NaN</td>\n",
       "      <td>NaN</td>\n",
       "    </tr>\n",
       "    <tr>\n",
       "      <th>4</th>\n",
       "      <td>ham</td>\n",
       "      <td>Nah I don't think he goes to usf, he lives aro...</td>\n",
       "      <td>NaN</td>\n",
       "      <td>NaN</td>\n",
       "      <td>NaN</td>\n",
       "    </tr>\n",
       "    <tr>\n",
       "      <th>...</th>\n",
       "      <td>...</td>\n",
       "      <td>...</td>\n",
       "      <td>...</td>\n",
       "      <td>...</td>\n",
       "      <td>...</td>\n",
       "    </tr>\n",
       "    <tr>\n",
       "      <th>5567</th>\n",
       "      <td>spam</td>\n",
       "      <td>This is the 2nd time we have tried 2 contact u...</td>\n",
       "      <td>NaN</td>\n",
       "      <td>NaN</td>\n",
       "      <td>NaN</td>\n",
       "    </tr>\n",
       "    <tr>\n",
       "      <th>5568</th>\n",
       "      <td>ham</td>\n",
       "      <td>Will Ì_ b going to esplanade fr home?</td>\n",
       "      <td>NaN</td>\n",
       "      <td>NaN</td>\n",
       "      <td>NaN</td>\n",
       "    </tr>\n",
       "    <tr>\n",
       "      <th>5569</th>\n",
       "      <td>ham</td>\n",
       "      <td>Pity, * was in mood for that. So...any other s...</td>\n",
       "      <td>NaN</td>\n",
       "      <td>NaN</td>\n",
       "      <td>NaN</td>\n",
       "    </tr>\n",
       "    <tr>\n",
       "      <th>5570</th>\n",
       "      <td>ham</td>\n",
       "      <td>The guy did some bitching but I acted like i'd...</td>\n",
       "      <td>NaN</td>\n",
       "      <td>NaN</td>\n",
       "      <td>NaN</td>\n",
       "    </tr>\n",
       "    <tr>\n",
       "      <th>5571</th>\n",
       "      <td>ham</td>\n",
       "      <td>Rofl. Its true to its name</td>\n",
       "      <td>NaN</td>\n",
       "      <td>NaN</td>\n",
       "      <td>NaN</td>\n",
       "    </tr>\n",
       "  </tbody>\n",
       "</table>\n",
       "<p>5572 rows × 5 columns</p>\n",
       "</div>"
      ],
      "text/plain": [
       "        v1                                                 v2 Unnamed: 2  \\\n",
       "0      ham  Go until jurong point, crazy.. Available only ...        NaN   \n",
       "1      ham                      Ok lar... Joking wif u oni...        NaN   \n",
       "2     spam  Free entry in 2 a wkly comp to win FA Cup fina...        NaN   \n",
       "3      ham  U dun say so early hor... U c already then say...        NaN   \n",
       "4      ham  Nah I don't think he goes to usf, he lives aro...        NaN   \n",
       "...    ...                                                ...        ...   \n",
       "5567  spam  This is the 2nd time we have tried 2 contact u...        NaN   \n",
       "5568   ham              Will Ì_ b going to esplanade fr home?        NaN   \n",
       "5569   ham  Pity, * was in mood for that. So...any other s...        NaN   \n",
       "5570   ham  The guy did some bitching but I acted like i'd...        NaN   \n",
       "5571   ham                         Rofl. Its true to its name        NaN   \n",
       "\n",
       "     Unnamed: 3 Unnamed: 4  \n",
       "0           NaN        NaN  \n",
       "1           NaN        NaN  \n",
       "2           NaN        NaN  \n",
       "3           NaN        NaN  \n",
       "4           NaN        NaN  \n",
       "...         ...        ...  \n",
       "5567        NaN        NaN  \n",
       "5568        NaN        NaN  \n",
       "5569        NaN        NaN  \n",
       "5570        NaN        NaN  \n",
       "5571        NaN        NaN  \n",
       "\n",
       "[5572 rows x 5 columns]"
      ]
     },
     "execution_count": 88,
     "metadata": {},
     "output_type": "execute_result"
    }
   ],
   "source": [
    "df= pd.read_csv(\"spam.csv\",encoding='ISO-8859-1')\n",
    "df"
   ]
  },
  {
   "cell_type": "code",
   "execution_count": 89,
   "metadata": {
    "execution": {
     "iopub.execute_input": "2023-09-14T15:10:14.749909Z",
     "iopub.status.busy": "2023-09-14T15:10:14.749143Z",
     "iopub.status.idle": "2023-09-14T15:10:14.765264Z",
     "shell.execute_reply": "2023-09-14T15:10:14.763985Z",
     "shell.execute_reply.started": "2023-09-14T15:10:14.749865Z"
    }
   },
   "outputs": [
    {
     "name": "stdout",
     "output_type": "stream",
     "text": [
      "<class 'pandas.core.frame.DataFrame'>\n",
      "RangeIndex: 5572 entries, 0 to 5571\n",
      "Data columns (total 5 columns):\n",
      " #   Column      Non-Null Count  Dtype \n",
      "---  ------      --------------  ----- \n",
      " 0   v1          5572 non-null   object\n",
      " 1   v2          5572 non-null   object\n",
      " 2   Unnamed: 2  50 non-null     object\n",
      " 3   Unnamed: 3  12 non-null     object\n",
      " 4   Unnamed: 4  6 non-null      object\n",
      "dtypes: object(5)\n",
      "memory usage: 217.8+ KB\n"
     ]
    }
   ],
   "source": [
    "df.info()"
   ]
  },
  {
   "cell_type": "code",
   "execution_count": 90,
   "metadata": {
    "execution": {
     "iopub.execute_input": "2023-09-14T15:10:14.767007Z",
     "iopub.status.busy": "2023-09-14T15:10:14.766656Z",
     "iopub.status.idle": "2023-09-14T15:10:14.783633Z",
     "shell.execute_reply": "2023-09-14T15:10:14.782371Z",
     "shell.execute_reply.started": "2023-09-14T15:10:14.766978Z"
    }
   },
   "outputs": [
    {
     "name": "stderr",
     "output_type": "stream",
     "text": [
      "[nltk_data] Downloading package stopwords to\n",
      "[nltk_data]     C:\\Users\\JASWIN\\AppData\\Roaming\\nltk_data...\n",
      "[nltk_data]   Package stopwords is already up-to-date!\n"
     ]
    },
    {
     "data": {
      "text/plain": [
       "True"
      ]
     },
     "execution_count": 90,
     "metadata": {},
     "output_type": "execute_result"
    }
   ],
   "source": [
    "# Downloading the stopwords dataset\n",
    "import nltk\n",
    "nltk.download(\"stopwords\")"
   ]
  },
  {
   "cell_type": "code",
   "execution_count": 91,
   "metadata": {
    "execution": {
     "iopub.execute_input": "2023-09-14T15:10:14.787619Z",
     "iopub.status.busy": "2023-09-14T15:10:14.787084Z",
     "iopub.status.idle": "2023-09-14T15:10:14.798864Z",
     "shell.execute_reply": "2023-09-14T15:10:14.7977Z",
     "shell.execute_reply.started": "2023-09-14T15:10:14.787585Z"
    }
   },
   "outputs": [],
   "source": [
    "# Drop unnecessary columns from the DataFrame\n",
    "\n",
    "columns_to_drop = [\"Unnamed: 2\", \"Unnamed: 3\", \"Unnamed: 4\"]\n",
    "df.drop(columns=columns_to_drop, inplace=True)"
   ]
  },
  {
   "cell_type": "code",
   "execution_count": 92,
   "metadata": {
    "execution": {
     "iopub.execute_input": "2023-09-14T15:10:14.800826Z",
     "iopub.status.busy": "2023-09-14T15:10:14.799835Z",
     "iopub.status.idle": "2023-09-14T15:10:14.820043Z",
     "shell.execute_reply": "2023-09-14T15:10:14.819268Z",
     "shell.execute_reply.started": "2023-09-14T15:10:14.800792Z"
    }
   },
   "outputs": [
    {
     "data": {
      "text/html": [
       "<div>\n",
       "<style scoped>\n",
       "    .dataframe tbody tr th:only-of-type {\n",
       "        vertical-align: middle;\n",
       "    }\n",
       "\n",
       "    .dataframe tbody tr th {\n",
       "        vertical-align: top;\n",
       "    }\n",
       "\n",
       "    .dataframe thead th {\n",
       "        text-align: right;\n",
       "    }\n",
       "</style>\n",
       "<table border=\"1\" class=\"dataframe\">\n",
       "  <thead>\n",
       "    <tr style=\"text-align: right;\">\n",
       "      <th></th>\n",
       "      <th>v1</th>\n",
       "      <th>v2</th>\n",
       "    </tr>\n",
       "  </thead>\n",
       "  <tbody>\n",
       "    <tr>\n",
       "      <th>0</th>\n",
       "      <td>ham</td>\n",
       "      <td>Go until jurong point, crazy.. Available only ...</td>\n",
       "    </tr>\n",
       "    <tr>\n",
       "      <th>1</th>\n",
       "      <td>ham</td>\n",
       "      <td>Ok lar... Joking wif u oni...</td>\n",
       "    </tr>\n",
       "    <tr>\n",
       "      <th>2</th>\n",
       "      <td>spam</td>\n",
       "      <td>Free entry in 2 a wkly comp to win FA Cup fina...</td>\n",
       "    </tr>\n",
       "    <tr>\n",
       "      <th>3</th>\n",
       "      <td>ham</td>\n",
       "      <td>U dun say so early hor... U c already then say...</td>\n",
       "    </tr>\n",
       "    <tr>\n",
       "      <th>4</th>\n",
       "      <td>ham</td>\n",
       "      <td>Nah I don't think he goes to usf, he lives aro...</td>\n",
       "    </tr>\n",
       "    <tr>\n",
       "      <th>...</th>\n",
       "      <td>...</td>\n",
       "      <td>...</td>\n",
       "    </tr>\n",
       "    <tr>\n",
       "      <th>5567</th>\n",
       "      <td>spam</td>\n",
       "      <td>This is the 2nd time we have tried 2 contact u...</td>\n",
       "    </tr>\n",
       "    <tr>\n",
       "      <th>5568</th>\n",
       "      <td>ham</td>\n",
       "      <td>Will Ì_ b going to esplanade fr home?</td>\n",
       "    </tr>\n",
       "    <tr>\n",
       "      <th>5569</th>\n",
       "      <td>ham</td>\n",
       "      <td>Pity, * was in mood for that. So...any other s...</td>\n",
       "    </tr>\n",
       "    <tr>\n",
       "      <th>5570</th>\n",
       "      <td>ham</td>\n",
       "      <td>The guy did some bitching but I acted like i'd...</td>\n",
       "    </tr>\n",
       "    <tr>\n",
       "      <th>5571</th>\n",
       "      <td>ham</td>\n",
       "      <td>Rofl. Its true to its name</td>\n",
       "    </tr>\n",
       "  </tbody>\n",
       "</table>\n",
       "<p>5572 rows × 2 columns</p>\n",
       "</div>"
      ],
      "text/plain": [
       "        v1                                                 v2\n",
       "0      ham  Go until jurong point, crazy.. Available only ...\n",
       "1      ham                      Ok lar... Joking wif u oni...\n",
       "2     spam  Free entry in 2 a wkly comp to win FA Cup fina...\n",
       "3      ham  U dun say so early hor... U c already then say...\n",
       "4      ham  Nah I don't think he goes to usf, he lives aro...\n",
       "...    ...                                                ...\n",
       "5567  spam  This is the 2nd time we have tried 2 contact u...\n",
       "5568   ham              Will Ì_ b going to esplanade fr home?\n",
       "5569   ham  Pity, * was in mood for that. So...any other s...\n",
       "5570   ham  The guy did some bitching but I acted like i'd...\n",
       "5571   ham                         Rofl. Its true to its name\n",
       "\n",
       "[5572 rows x 2 columns]"
      ]
     },
     "execution_count": 92,
     "metadata": {},
     "output_type": "execute_result"
    }
   ],
   "source": [
    "df"
   ]
  },
  {
   "cell_type": "code",
   "execution_count": 93,
   "metadata": {
    "execution": {
     "iopub.execute_input": "2023-09-14T15:10:14.821291Z",
     "iopub.status.busy": "2023-09-14T15:10:14.820939Z",
     "iopub.status.idle": "2023-09-14T15:10:14.828033Z",
     "shell.execute_reply": "2023-09-14T15:10:14.8268Z",
     "shell.execute_reply.started": "2023-09-14T15:10:14.821263Z"
    }
   },
   "outputs": [],
   "source": [
    "# Rename the columns \"v1 and \"v2\" to new names\n",
    "\n",
    "new_column_names = {\"v1\":\"Category\",\"v2\":\"Message\"}\n",
    "df.rename(columns = new_column_names,inplace = True)"
   ]
  },
  {
   "cell_type": "code",
   "execution_count": 94,
   "metadata": {
    "execution": {
     "iopub.execute_input": "2023-09-14T15:10:14.829617Z",
     "iopub.status.busy": "2023-09-14T15:10:14.829284Z",
     "iopub.status.idle": "2023-09-14T15:10:14.856403Z",
     "shell.execute_reply": "2023-09-14T15:10:14.85534Z",
     "shell.execute_reply.started": "2023-09-14T15:10:14.829589Z"
    }
   },
   "outputs": [
    {
     "data": {
      "text/html": [
       "<div>\n",
       "<style scoped>\n",
       "    .dataframe tbody tr th:only-of-type {\n",
       "        vertical-align: middle;\n",
       "    }\n",
       "\n",
       "    .dataframe tbody tr th {\n",
       "        vertical-align: top;\n",
       "    }\n",
       "\n",
       "    .dataframe thead th {\n",
       "        text-align: right;\n",
       "    }\n",
       "</style>\n",
       "<table border=\"1\" class=\"dataframe\">\n",
       "  <thead>\n",
       "    <tr style=\"text-align: right;\">\n",
       "      <th></th>\n",
       "      <th>Category</th>\n",
       "      <th>Message</th>\n",
       "    </tr>\n",
       "  </thead>\n",
       "  <tbody>\n",
       "    <tr>\n",
       "      <th>102</th>\n",
       "      <td>ham</td>\n",
       "      <td>As per your request 'Melle Melle (Oru Minnamin...</td>\n",
       "    </tr>\n",
       "    <tr>\n",
       "      <th>153</th>\n",
       "      <td>ham</td>\n",
       "      <td>As per your request 'Melle Melle (Oru Minnamin...</td>\n",
       "    </tr>\n",
       "    <tr>\n",
       "      <th>206</th>\n",
       "      <td>ham</td>\n",
       "      <td>As I entered my cabin my PA said, '' Happy B'd...</td>\n",
       "    </tr>\n",
       "    <tr>\n",
       "      <th>222</th>\n",
       "      <td>ham</td>\n",
       "      <td>Sorry, I'll call later</td>\n",
       "    </tr>\n",
       "    <tr>\n",
       "      <th>325</th>\n",
       "      <td>ham</td>\n",
       "      <td>No calls..messages..missed calls</td>\n",
       "    </tr>\n",
       "    <tr>\n",
       "      <th>...</th>\n",
       "      <td>...</td>\n",
       "      <td>...</td>\n",
       "    </tr>\n",
       "    <tr>\n",
       "      <th>5524</th>\n",
       "      <td>spam</td>\n",
       "      <td>You are awarded a SiPix Digital Camera! call 0...</td>\n",
       "    </tr>\n",
       "    <tr>\n",
       "      <th>5535</th>\n",
       "      <td>ham</td>\n",
       "      <td>I know you are thinkin malaria. But relax, chi...</td>\n",
       "    </tr>\n",
       "    <tr>\n",
       "      <th>5539</th>\n",
       "      <td>ham</td>\n",
       "      <td>Just sleeping..and surfing</td>\n",
       "    </tr>\n",
       "    <tr>\n",
       "      <th>5553</th>\n",
       "      <td>ham</td>\n",
       "      <td>Hahaha..use your brain dear</td>\n",
       "    </tr>\n",
       "    <tr>\n",
       "      <th>5558</th>\n",
       "      <td>ham</td>\n",
       "      <td>Sorry, I'll call later</td>\n",
       "    </tr>\n",
       "  </tbody>\n",
       "</table>\n",
       "<p>403 rows × 2 columns</p>\n",
       "</div>"
      ],
      "text/plain": [
       "     Category                                            Message\n",
       "102       ham  As per your request 'Melle Melle (Oru Minnamin...\n",
       "153       ham  As per your request 'Melle Melle (Oru Minnamin...\n",
       "206       ham  As I entered my cabin my PA said, '' Happy B'd...\n",
       "222       ham                             Sorry, I'll call later\n",
       "325       ham                   No calls..messages..missed calls\n",
       "...       ...                                                ...\n",
       "5524     spam  You are awarded a SiPix Digital Camera! call 0...\n",
       "5535      ham  I know you are thinkin malaria. But relax, chi...\n",
       "5539      ham                         Just sleeping..and surfing\n",
       "5553      ham                        Hahaha..use your brain dear\n",
       "5558      ham                             Sorry, I'll call later\n",
       "\n",
       "[403 rows x 2 columns]"
      ]
     },
     "execution_count": 94,
     "metadata": {},
     "output_type": "execute_result"
    }
   ],
   "source": [
    "df[df.duplicated()]\n"
   ]
  },
  {
   "cell_type": "code",
   "execution_count": 95,
   "metadata": {
    "execution": {
     "iopub.execute_input": "2023-09-14T15:10:14.858328Z",
     "iopub.status.busy": "2023-09-14T15:10:14.857823Z",
     "iopub.status.idle": "2023-09-14T15:10:14.873159Z",
     "shell.execute_reply": "2023-09-14T15:10:14.872398Z",
     "shell.execute_reply.started": "2023-09-14T15:10:14.858288Z"
    }
   },
   "outputs": [
    {
     "data": {
      "text/html": [
       "<div>\n",
       "<style scoped>\n",
       "    .dataframe tbody tr th:only-of-type {\n",
       "        vertical-align: middle;\n",
       "    }\n",
       "\n",
       "    .dataframe tbody tr th {\n",
       "        vertical-align: top;\n",
       "    }\n",
       "\n",
       "    .dataframe thead th {\n",
       "        text-align: right;\n",
       "    }\n",
       "</style>\n",
       "<table border=\"1\" class=\"dataframe\">\n",
       "  <thead>\n",
       "    <tr style=\"text-align: right;\">\n",
       "      <th></th>\n",
       "      <th>Category</th>\n",
       "      <th>Message</th>\n",
       "    </tr>\n",
       "  </thead>\n",
       "  <tbody>\n",
       "    <tr>\n",
       "      <th>0</th>\n",
       "      <td>ham</td>\n",
       "      <td>Go until jurong point, crazy.. Available only ...</td>\n",
       "    </tr>\n",
       "    <tr>\n",
       "      <th>1</th>\n",
       "      <td>ham</td>\n",
       "      <td>Ok lar... Joking wif u oni...</td>\n",
       "    </tr>\n",
       "    <tr>\n",
       "      <th>2</th>\n",
       "      <td>spam</td>\n",
       "      <td>Free entry in 2 a wkly comp to win FA Cup fina...</td>\n",
       "    </tr>\n",
       "    <tr>\n",
       "      <th>3</th>\n",
       "      <td>ham</td>\n",
       "      <td>U dun say so early hor... U c already then say...</td>\n",
       "    </tr>\n",
       "    <tr>\n",
       "      <th>4</th>\n",
       "      <td>ham</td>\n",
       "      <td>Nah I don't think he goes to usf, he lives aro...</td>\n",
       "    </tr>\n",
       "    <tr>\n",
       "      <th>...</th>\n",
       "      <td>...</td>\n",
       "      <td>...</td>\n",
       "    </tr>\n",
       "    <tr>\n",
       "      <th>5567</th>\n",
       "      <td>spam</td>\n",
       "      <td>This is the 2nd time we have tried 2 contact u...</td>\n",
       "    </tr>\n",
       "    <tr>\n",
       "      <th>5568</th>\n",
       "      <td>ham</td>\n",
       "      <td>Will Ì_ b going to esplanade fr home?</td>\n",
       "    </tr>\n",
       "    <tr>\n",
       "      <th>5569</th>\n",
       "      <td>ham</td>\n",
       "      <td>Pity, * was in mood for that. So...any other s...</td>\n",
       "    </tr>\n",
       "    <tr>\n",
       "      <th>5570</th>\n",
       "      <td>ham</td>\n",
       "      <td>The guy did some bitching but I acted like i'd...</td>\n",
       "    </tr>\n",
       "    <tr>\n",
       "      <th>5571</th>\n",
       "      <td>ham</td>\n",
       "      <td>Rofl. Its true to its name</td>\n",
       "    </tr>\n",
       "  </tbody>\n",
       "</table>\n",
       "<p>5169 rows × 2 columns</p>\n",
       "</div>"
      ],
      "text/plain": [
       "     Category                                            Message\n",
       "0         ham  Go until jurong point, crazy.. Available only ...\n",
       "1         ham                      Ok lar... Joking wif u oni...\n",
       "2        spam  Free entry in 2 a wkly comp to win FA Cup fina...\n",
       "3         ham  U dun say so early hor... U c already then say...\n",
       "4         ham  Nah I don't think he goes to usf, he lives aro...\n",
       "...       ...                                                ...\n",
       "5567     spam  This is the 2nd time we have tried 2 contact u...\n",
       "5568      ham              Will Ì_ b going to esplanade fr home?\n",
       "5569      ham  Pity, * was in mood for that. So...any other s...\n",
       "5570      ham  The guy did some bitching but I acted like i'd...\n",
       "5571      ham                         Rofl. Its true to its name\n",
       "\n",
       "[5169 rows x 2 columns]"
      ]
     },
     "execution_count": 95,
     "metadata": {},
     "output_type": "execute_result"
    }
   ],
   "source": [
    "#Drop duplicated values\n",
    "df=df.drop_duplicates()\n",
    "df"
   ]
  },
  {
   "cell_type": "code",
   "execution_count": 96,
   "metadata": {
    "execution": {
     "iopub.execute_input": "2023-09-14T15:10:14.875195Z",
     "iopub.status.busy": "2023-09-14T15:10:14.874565Z",
     "iopub.status.idle": "2023-09-14T15:10:14.886511Z",
     "shell.execute_reply": "2023-09-14T15:10:14.885443Z",
     "shell.execute_reply.started": "2023-09-14T15:10:14.875164Z"
    }
   },
   "outputs": [
    {
     "name": "stdout",
     "output_type": "stream",
     "text": [
      "<class 'pandas.core.frame.DataFrame'>\n",
      "Int64Index: 5169 entries, 0 to 5571\n",
      "Data columns (total 2 columns):\n",
      " #   Column    Non-Null Count  Dtype \n",
      "---  ------    --------------  ----- \n",
      " 0   Category  5169 non-null   object\n",
      " 1   Message   5169 non-null   object\n",
      "dtypes: object(2)\n",
      "memory usage: 121.1+ KB\n"
     ]
    }
   ],
   "source": [
    "df.info()"
   ]
  },
  {
   "cell_type": "code",
   "execution_count": 97,
   "metadata": {
    "execution": {
     "iopub.execute_input": "2023-09-14T15:10:14.889964Z",
     "iopub.status.busy": "2023-09-14T15:10:14.889596Z",
     "iopub.status.idle": "2023-09-14T15:10:14.910653Z",
     "shell.execute_reply": "2023-09-14T15:10:14.909572Z",
     "shell.execute_reply.started": "2023-09-14T15:10:14.889931Z"
    }
   },
   "outputs": [
    {
     "data": {
      "text/html": [
       "<div>\n",
       "<style scoped>\n",
       "    .dataframe tbody tr th:only-of-type {\n",
       "        vertical-align: middle;\n",
       "    }\n",
       "\n",
       "    .dataframe tbody tr th {\n",
       "        vertical-align: top;\n",
       "    }\n",
       "\n",
       "    .dataframe thead th {\n",
       "        text-align: right;\n",
       "    }\n",
       "</style>\n",
       "<table border=\"1\" class=\"dataframe\">\n",
       "  <thead>\n",
       "    <tr style=\"text-align: right;\">\n",
       "      <th></th>\n",
       "      <th>Category</th>\n",
       "      <th>Message</th>\n",
       "    </tr>\n",
       "  </thead>\n",
       "  <tbody>\n",
       "    <tr>\n",
       "      <th>count</th>\n",
       "      <td>5169</td>\n",
       "      <td>5169</td>\n",
       "    </tr>\n",
       "    <tr>\n",
       "      <th>unique</th>\n",
       "      <td>2</td>\n",
       "      <td>5169</td>\n",
       "    </tr>\n",
       "    <tr>\n",
       "      <th>top</th>\n",
       "      <td>ham</td>\n",
       "      <td>Go until jurong point, crazy.. Available only ...</td>\n",
       "    </tr>\n",
       "    <tr>\n",
       "      <th>freq</th>\n",
       "      <td>4516</td>\n",
       "      <td>1</td>\n",
       "    </tr>\n",
       "  </tbody>\n",
       "</table>\n",
       "</div>"
      ],
      "text/plain": [
       "       Category                                            Message\n",
       "count      5169                                               5169\n",
       "unique        2                                               5169\n",
       "top         ham  Go until jurong point, crazy.. Available only ...\n",
       "freq       4516                                                  1"
      ]
     },
     "execution_count": 97,
     "metadata": {},
     "output_type": "execute_result"
    }
   ],
   "source": [
    "df.describe()"
   ]
  },
  {
   "cell_type": "code",
   "execution_count": 98,
   "metadata": {
    "execution": {
     "iopub.execute_input": "2023-09-14T15:10:14.912527Z",
     "iopub.status.busy": "2023-09-14T15:10:14.912078Z",
     "iopub.status.idle": "2023-09-14T15:10:14.926637Z",
     "shell.execute_reply": "2023-09-14T15:10:14.925662Z",
     "shell.execute_reply.started": "2023-09-14T15:10:14.912486Z"
    }
   },
   "outputs": [
    {
     "data": {
      "text/plain": [
       "(5169, 2)"
      ]
     },
     "execution_count": 98,
     "metadata": {},
     "output_type": "execute_result"
    }
   ],
   "source": [
    "df.shape"
   ]
  },
  {
   "cell_type": "code",
   "execution_count": 99,
   "metadata": {
    "execution": {
     "iopub.execute_input": "2023-09-14T15:10:14.928251Z",
     "iopub.status.busy": "2023-09-14T15:10:14.927813Z",
     "iopub.status.idle": "2023-09-14T15:10:14.942714Z",
     "shell.execute_reply": "2023-09-14T15:10:14.941586Z",
     "shell.execute_reply.started": "2023-09-14T15:10:14.92821Z"
    }
   },
   "outputs": [
    {
     "data": {
      "text/plain": [
       "ham     4516\n",
       "spam     653\n",
       "Name: Category, dtype: int64"
      ]
     },
     "execution_count": 99,
     "metadata": {},
     "output_type": "execute_result"
    }
   ],
   "source": [
    "df['Category'].value_counts()\n"
   ]
  },
  {
   "cell_type": "markdown",
   "metadata": {},
   "source": [
    "## **Data Visualisation** "
   ]
  },
  {
   "cell_type": "code",
   "execution_count": 100,
   "metadata": {
    "execution": {
     "iopub.execute_input": "2023-09-14T15:10:14.944938Z",
     "iopub.status.busy": "2023-09-14T15:10:14.944002Z",
     "iopub.status.idle": "2023-09-14T15:10:15.151643Z",
     "shell.execute_reply": "2023-09-14T15:10:15.150385Z",
     "shell.execute_reply.started": "2023-09-14T15:10:14.944896Z"
    }
   },
   "outputs": [
    {
     "data": {
      "image/png": "[encoded data removed]",
      "text/plain": [
       "<Figure size 640x480 with 1 Axes>"
      ]
     },
     "metadata": {},
     "output_type": "display_data"
    }
   ],
   "source": [
    "sns.countplot(data=df, x='Category')\n",
    "plt.xlabel('Category')\n",
    "plt.ylabel('count')\n",
    "plt.title('Distribution of mails')\n",
    "plt.show()"
   ]
  },
  {
   "cell_type": "markdown",
   "metadata": {},
   "source": [
    "## **Data Preprocessing**"
   ]
  },
  {
   "cell_type": "code",
   "execution_count": 101,
   "metadata": {
    "execution": {
     "iopub.execute_input": "2023-09-14T15:10:40.95966Z",
     "iopub.status.busy": "2023-09-14T15:10:40.959235Z",
     "iopub.status.idle": "2023-09-14T15:10:40.974924Z",
     "shell.execute_reply": "2023-09-14T15:10:40.973365Z",
     "shell.execute_reply.started": "2023-09-14T15:10:40.959625Z"
    }
   },
   "outputs": [
    {
     "name": "stderr",
     "output_type": "stream",
     "text": [
      "C:\\Users\\JASWIN\\AppData\\Local\\Temp\\ipykernel_6644\\729011151.py:3: SettingWithCopyWarning: \n",
      "A value is trying to be set on a copy of a slice from a DataFrame\n",
      "\n",
      "See the caveats in the documentation: https://pandas.pydata.org/pandas-docs/stable/user_guide/indexing.html#returning-a-view-versus-a-copy\n",
      "  df.loc[df[\"Category\"] == \"spam\", \"Category\"] = 0\n",
      "C:\\Users\\JASWIN\\AppData\\Local\\Temp\\ipykernel_6644\\729011151.py:4: SettingWithCopyWarning: \n",
      "A value is trying to be set on a copy of a slice from a DataFrame\n",
      "\n",
      "See the caveats in the documentation: https://pandas.pydata.org/pandas-docs/stable/user_guide/indexing.html#returning-a-view-versus-a-copy\n",
      "  df.loc[df[\"Category\"] == \"ham\", \"Category\"] = 1\n"
     ]
    },
    {
     "data": {
      "text/html": [
       "<div>\n",
       "<style scoped>\n",
       "    .dataframe tbody tr th:only-of-type {\n",
       "        vertical-align: middle;\n",
       "    }\n",
       "\n",
       "    .dataframe tbody tr th {\n",
       "        vertical-align: top;\n",
       "    }\n",
       "\n",
       "    .dataframe thead th {\n",
       "        text-align: right;\n",
       "    }\n",
       "</style>\n",
       "<table border=\"1\" class=\"dataframe\">\n",
       "  <thead>\n",
       "    <tr style=\"text-align: right;\">\n",
       "      <th></th>\n",
       "      <th>Category</th>\n",
       "      <th>Message</th>\n",
       "    </tr>\n",
       "  </thead>\n",
       "  <tbody>\n",
       "    <tr>\n",
       "      <th>0</th>\n",
       "      <td>1</td>\n",
       "      <td>Go until jurong point, crazy.. Available only ...</td>\n",
       "    </tr>\n",
       "    <tr>\n",
       "      <th>1</th>\n",
       "      <td>1</td>\n",
       "      <td>Ok lar... Joking wif u oni...</td>\n",
       "    </tr>\n",
       "    <tr>\n",
       "      <th>2</th>\n",
       "      <td>0</td>\n",
       "      <td>Free entry in 2 a wkly comp to win FA Cup fina...</td>\n",
       "    </tr>\n",
       "    <tr>\n",
       "      <th>3</th>\n",
       "      <td>1</td>\n",
       "      <td>U dun say so early hor... U c already then say...</td>\n",
       "    </tr>\n",
       "    <tr>\n",
       "      <th>4</th>\n",
       "      <td>1</td>\n",
       "      <td>Nah I don't think he goes to usf, he lives aro...</td>\n",
       "    </tr>\n",
       "  </tbody>\n",
       "</table>\n",
       "</div>"
      ],
      "text/plain": [
       "  Category                                            Message\n",
       "0        1  Go until jurong point, crazy.. Available only ...\n",
       "1        1                      Ok lar... Joking wif u oni...\n",
       "2        0  Free entry in 2 a wkly comp to win FA Cup fina...\n",
       "3        1  U dun say so early hor... U c already then say...\n",
       "4        1  Nah I don't think he goes to usf, he lives aro..."
      ]
     },
     "execution_count": 101,
     "metadata": {},
     "output_type": "execute_result"
    }
   ],
   "source": [
    "# Convert the \"Category\" column values to numerical representation (0 for \"spam\" and 1 for \"ham\")\n",
    "\n",
    "df.loc[df[\"Category\"] == \"spam\", \"Category\"] = 0\n",
    "df.loc[df[\"Category\"] == \"ham\", \"Category\"] = 1\n",
    "df.head()"
   ]
  },
  {
   "cell_type": "code",
   "execution_count": 102,
   "metadata": {
    "execution": {
     "iopub.execute_input": "2023-09-14T15:11:49.130172Z",
     "iopub.status.busy": "2023-09-14T15:11:49.129787Z",
     "iopub.status.idle": "2023-09-14T15:11:49.136029Z",
     "shell.execute_reply": "2023-09-14T15:11:49.134784Z",
     "shell.execute_reply.started": "2023-09-14T15:11:49.13014Z"
    }
   },
   "outputs": [],
   "source": [
    "# Separate the feature (X) and target (Y) data\n",
    "\n",
    "X = df[\"Message\"]\n",
    "Y = df[\"Category\"]"
   ]
  },
  {
   "cell_type": "code",
   "execution_count": 103,
   "metadata": {
    "execution": {
     "iopub.execute_input": "2023-09-14T15:11:54.657477Z",
     "iopub.status.busy": "2023-09-14T15:11:54.657082Z",
     "iopub.status.idle": "2023-09-14T15:11:54.667086Z",
     "shell.execute_reply": "2023-09-14T15:11:54.665822Z",
     "shell.execute_reply.started": "2023-09-14T15:11:54.657446Z"
    }
   },
   "outputs": [
    {
     "data": {
      "text/plain": [
       "0       Go until jurong point, crazy.. Available only ...\n",
       "1                           Ok lar... Joking wif u oni...\n",
       "2       Free entry in 2 a wkly comp to win FA Cup fina...\n",
       "3       U dun say so early hor... U c already then say...\n",
       "4       Nah I don't think he goes to usf, he lives aro...\n",
       "                              ...                        \n",
       "5567    This is the 2nd time we have tried 2 contact u...\n",
       "5568                Will Ì_ b going to esplanade fr home?\n",
       "5569    Pity, * was in mood for that. So...any other s...\n",
       "5570    The guy did some bitching but I acted like i'd...\n",
       "5571                           Rofl. Its true to its name\n",
       "Name: Message, Length: 5169, dtype: object"
      ]
     },
     "execution_count": 103,
     "metadata": {},
     "output_type": "execute_result"
    }
   ],
   "source": [
    "X"
   ]
  },
  {
   "cell_type": "code",
   "execution_count": 104,
   "metadata": {
    "execution": {
     "iopub.execute_input": "2023-09-14T15:11:59.444025Z",
     "iopub.status.busy": "2023-09-14T15:11:59.443654Z",
     "iopub.status.idle": "2023-09-14T15:11:59.453053Z",
     "shell.execute_reply": "2023-09-14T15:11:59.451842Z",
     "shell.execute_reply.started": "2023-09-14T15:11:59.443996Z"
    }
   },
   "outputs": [
    {
     "data": {
      "text/plain": [
       "0       1\n",
       "1       1\n",
       "2       0\n",
       "3       1\n",
       "4       1\n",
       "       ..\n",
       "5567    0\n",
       "5568    1\n",
       "5569    1\n",
       "5570    1\n",
       "5571    1\n",
       "Name: Category, Length: 5169, dtype: object"
      ]
     },
     "execution_count": 104,
     "metadata": {},
     "output_type": "execute_result"
    }
   ],
   "source": [
    "Y\n"
   ]
  },
  {
   "cell_type": "code",
   "execution_count": 105,
   "metadata": {
    "execution": {
     "iopub.execute_input": "2023-09-14T15:12:47.591333Z",
     "iopub.status.busy": "2023-09-14T15:12:47.5909Z",
     "iopub.status.idle": "2023-09-14T15:12:47.599755Z",
     "shell.execute_reply": "2023-09-14T15:12:47.598826Z",
     "shell.execute_reply.started": "2023-09-14T15:12:47.591298Z"
    }
   },
   "outputs": [],
   "source": [
    "# Split the data into training and testing sets\n",
    "\n",
    "X_train, X_test, Y_train, Y_test = train_test_split(X, Y, test_size = 0.2, random_state = 42)"
   ]
  },
  {
   "cell_type": "code",
   "execution_count": 106,
   "metadata": {
    "execution": {
     "iopub.execute_input": "2023-09-14T15:13:10.134304Z",
     "iopub.status.busy": "2023-09-14T15:13:10.133199Z",
     "iopub.status.idle": "2023-09-14T15:13:10.141943Z",
     "shell.execute_reply": "2023-09-14T15:13:10.140282Z",
     "shell.execute_reply.started": "2023-09-14T15:13:10.134251Z"
    }
   },
   "outputs": [
    {
     "name": "stdout",
     "output_type": "stream",
     "text": [
      "(5169,)\n",
      "(4135,)\n",
      "(1034,)\n"
     ]
    }
   ],
   "source": [
    "print(X.shape)\n",
    "print(X_train.shape)\n",
    "print(X_test.shape)"
   ]
  },
  {
   "cell_type": "markdown",
   "metadata": {},
   "source": [
    "## **Feature Extraction: TF-IDF**"
   ]
  },
  {
   "cell_type": "code",
   "execution_count": 107,
   "metadata": {
    "execution": {
     "iopub.execute_input": "2023-09-14T15:13:58.047612Z",
     "iopub.status.busy": "2023-09-14T15:13:58.047155Z",
     "iopub.status.idle": "2023-09-14T15:13:58.053357Z",
     "shell.execute_reply": "2023-09-14T15:13:58.05193Z",
     "shell.execute_reply.started": "2023-09-14T15:13:58.047566Z"
    }
   },
   "outputs": [],
   "source": [
    "# Create a TF-IDF vectorizer to convert text messages into numerical features\n",
    "\n",
    "feature_extraction = TfidfVectorizer(min_df=1, stop_words=\"english\", lowercase=True)"
   ]
  },
  {
   "cell_type": "code",
   "execution_count": 108,
   "metadata": {
    "execution": {
     "iopub.execute_input": "2023-09-14T15:14:22.315722Z",
     "iopub.status.busy": "2023-09-14T15:14:22.315304Z",
     "iopub.status.idle": "2023-09-14T15:14:22.440777Z",
     "shell.execute_reply": "2023-09-14T15:14:22.439423Z",
     "shell.execute_reply.started": "2023-09-14T15:14:22.315692Z"
    }
   },
   "outputs": [],
   "source": [
    "# Convert the training and testing text messages into numerical features using TF-IDF\n",
    "\n",
    "X_train_features = feature_extraction.fit_transform(X_train)\n",
    "X_test_features = feature_extraction.transform(X_test)\n"
   ]
  },
  {
   "cell_type": "code",
   "execution_count": 109,
   "metadata": {
    "execution": {
     "iopub.execute_input": "2023-09-14T15:14:39.97391Z",
     "iopub.status.busy": "2023-09-14T15:14:39.973472Z",
     "iopub.status.idle": "2023-09-14T15:14:39.981014Z",
     "shell.execute_reply": "2023-09-14T15:14:39.979426Z",
     "shell.execute_reply.started": "2023-09-14T15:14:39.973875Z"
    }
   },
   "outputs": [],
   "source": [
    "# Convert the target values into 0 and 1\n",
    "\n",
    "Y_train = Y_train.astype(int)\n",
    "Y_test = Y_test.astype(int)\n"
   ]
  },
  {
   "cell_type": "code",
   "execution_count": 110,
   "metadata": {
    "execution": {
     "iopub.execute_input": "2023-09-14T15:15:09.56849Z",
     "iopub.status.busy": "2023-09-14T15:15:09.568064Z",
     "iopub.status.idle": "2023-09-14T15:15:09.576734Z",
     "shell.execute_reply": "2023-09-14T15:15:09.575533Z",
     "shell.execute_reply.started": "2023-09-14T15:15:09.568456Z"
    }
   },
   "outputs": [
    {
     "name": "stdout",
     "output_type": "stream",
     "text": [
      "2228                       Those were my exact intentions\n",
      "5529                            What about this one then.\n",
      "2149                   Waaaat?? Lololo ok next time then!\n",
      "5058    Free video camera phones with Half Price line ...\n",
      "5051    Tick, tick, tick .... Where are you ? I could ...\n",
      "                              ...                        \n",
      "4740    Many more happy returns of the day. I wish you...\n",
      "474     Nice line said by a broken heart- Plz don't cu...\n",
      "3266                    Ok then i come n pick u at engin?\n",
      "4016    Eek that's a lot of time especially since Amer...\n",
      "879     U have a Secret Admirer who is looking 2 make ...\n",
      "Name: Message, Length: 4135, dtype: object\n"
     ]
    }
   ],
   "source": [
    "print(X_train)"
   ]
  },
  {
   "cell_type": "code",
   "execution_count": 111,
   "metadata": {
    "execution": {
     "iopub.execute_input": "2023-09-14T15:15:23.497029Z",
     "iopub.status.busy": "2023-09-14T15:15:23.496551Z",
     "iopub.status.idle": "2023-09-14T15:15:23.503885Z",
     "shell.execute_reply": "2023-09-14T15:15:23.50272Z",
     "shell.execute_reply.started": "2023-09-14T15:15:23.496987Z"
    }
   },
   "outputs": [
    {
     "name": "stdout",
     "output_type": "stream",
     "text": [
      "  (0, 3545)\t0.7455593142248959\n",
      "  (0, 2588)\t0.6664392762829205\n",
      "  (2, 6589)\t0.3136674984299076\n",
      "  (2, 4696)\t0.29654379102529516\n",
      "  (2, 4002)\t0.6378379419700079\n",
      "  (2, 6999)\t0.6378379419700079\n",
      "  (3, 564)\t0.2785767488573773\n",
      "  (3, 1534)\t0.23384958966251285\n",
      "  (3, 52)\t0.26549489341098675\n",
      "  (3, 4344)\t0.22076773421612225\n",
      "  (3, 6770)\t0.2300494583671639\n",
      "  (3, 251)\t0.19582167067522926\n",
      "  (3, 4299)\t0.18532229917229942\n",
      "  (3, 4630)\t0.26549489341098675\n",
      "  (3, 1997)\t0.26549489341098675\n",
      "  (3, 516)\t0.19460402332334106\n",
      "  (3, 4419)\t0.2562131692599451\n",
      "  (3, 271)\t0.23384958966251285\n",
      "  (3, 5450)\t0.2300494583671639\n",
      "  (3, 3941)\t0.18912243046764834\n",
      "  (3, 5171)\t0.20953002785296104\n",
      "  (3, 3168)\t0.19120469004402674\n",
      "  (3, 4954)\t0.23384958966251285\n",
      "  (3, 1553)\t0.20428654549041733\n",
      "  (3, 6938)\t0.19708708091575408\n",
      "  :\t:\n",
      "  (4132, 1825)\t0.3605065932469792\n",
      "  (4132, 4696)\t0.3418197199207224\n",
      "  (4133, 5893)\t0.376872105216547\n",
      "  (4133, 4973)\t0.36369662422743665\n",
      "  (4133, 2451)\t0.376872105216547\n",
      "  (4133, 901)\t0.36369662422743665\n",
      "  (4133, 4029)\t0.27296922168195425\n",
      "  (4133, 4303)\t0.2797666732547047\n",
      "  (4133, 3930)\t0.19090886726821316\n",
      "  (4133, 2550)\t0.326557029270423\n",
      "  (4133, 4007)\t0.2670514851432264\n",
      "  (4133, 6192)\t0.21536918062740018\n",
      "  (4133, 6589)\t0.19446518344396782\n",
      "  (4134, 45)\t0.36133141627364085\n",
      "  (4134, 6198)\t0.34436343393010593\n",
      "  (4134, 216)\t0.34436343393010593\n",
      "  (4134, 6543)\t0.29397934692144273\n",
      "  (4134, 5512)\t0.31535647652238075\n",
      "  (4134, 799)\t0.31535647652238075\n",
      "  (4134, 5715)\t0.3033175014581906\n",
      "  (4134, 6069)\t0.2508916342134232\n",
      "  (4134, 4013)\t0.26098383065689107\n",
      "  (4134, 1895)\t0.2301166472830892\n",
      "  (4134, 4139)\t0.20748487401135496\n",
      "  (4134, 6867)\t0.16697204675649222\n"
     ]
    }
   ],
   "source": [
    "print(X_train_features)"
   ]
  },
  {
   "cell_type": "markdown",
   "metadata": {},
   "source": [
    "## **Model Training** "
   ]
  },
  {
   "cell_type": "code",
   "execution_count": 112,
   "metadata": {
    "execution": {
     "iopub.execute_input": "2023-09-14T15:16:53.529268Z",
     "iopub.status.busy": "2023-09-14T15:16:53.528823Z",
     "iopub.status.idle": "2023-09-14T15:16:53.616537Z",
     "shell.execute_reply": "2023-09-14T15:16:53.615327Z",
     "shell.execute_reply.started": "2023-09-14T15:16:53.529231Z"
    }
   },
   "outputs": [
    {
     "data": {
      "text/html": [
       "<style>#sk-container-id-3 {color: black;}#sk-container-id-3 pre{padding: 0;}#sk-container-id-3 div.sk-toggleable {background-color: white;}#sk-container-id-3 label.sk-toggleable__label {cursor: pointer;display: block;width: 100%;margin-bottom: 0;padding: 0.3em;box-sizing: border-box;text-align: center;}#sk-container-id-3 label.sk-toggleable__label-arrow:before {content: \"▸\";float: left;margin-right: 0.25em;color: #696969;}#sk-container-id-3 label.sk-toggleable__label-arrow:hover:before {color: black;}#sk-container-id-3 div.sk-estimator:hover label.sk-toggleable__label-arrow:before {color: black;}#sk-container-id-3 div.sk-toggleable__content {max-height: 0;max-width: 0;overflow: hidden;text-align: left;background-color: #f0f8ff;}#sk-container-id-3 div.sk-toggleable__content pre {margin: 0.2em;color: black;border-radius: 0.25em;background-color: #f0f8ff;}#sk-container-id-3 input.sk-toggleable__control:checked~div.sk-toggleable__content {max-height: 200px;max-width: 100%;overflow: auto;}#sk-container-id-3 input.sk-toggleable__control:checked~label.sk-toggleable__label-arrow:before {content: \"▾\";}#sk-container-id-3 div.sk-estimator input.sk-toggleable__control:checked~label.sk-toggleable__label {background-color: #d4ebff;}#sk-container-id-3 div.sk-label input.sk-toggleable__control:checked~label.sk-toggleable__label {background-color: #d4ebff;}#sk-container-id-3 input.sk-hidden--visually {border: 0;clip: rect(1px 1px 1px 1px);clip: rect(1px, 1px, 1px, 1px);height: 1px;margin: -1px;overflow: hidden;padding: 0;position: absolute;width: 1px;}#sk-container-id-3 div.sk-estimator {font-family: monospace;background-color: #f0f8ff;border: 1px dotted black;border-radius: 0.25em;box-sizing: border-box;margin-bottom: 0.5em;}#sk-container-id-3 div.sk-estimator:hover {background-color: #d4ebff;}#sk-container-id-3 div.sk-parallel-item::after {content: \"\";width: 100%;border-bottom: 1px solid gray;flex-grow: 1;}#sk-container-id-3 div.sk-label:hover label.sk-toggleable__label {background-color: #d4ebff;}#sk-container-id-3 div.sk-serial::before {content: \"\";position: absolute;border-left: 1px solid gray;box-sizing: border-box;top: 0;bottom: 0;left: 50%;z-index: 0;}#sk-container-id-3 div.sk-serial {display: flex;flex-direction: column;align-items: center;background-color: white;padding-right: 0.2em;padding-left: 0.2em;position: relative;}#sk-container-id-3 div.sk-item {position: relative;z-index: 1;}#sk-container-id-3 div.sk-parallel {display: flex;align-items: stretch;justify-content: center;background-color: white;position: relative;}#sk-container-id-3 div.sk-item::before, #sk-container-id-3 div.sk-parallel-item::before {content: \"\";position: absolute;border-left: 1px solid gray;box-sizing: border-box;top: 0;bottom: 0;left: 50%;z-index: -1;}#sk-container-id-3 div.sk-parallel-item {display: flex;flex-direction: column;z-index: 1;position: relative;background-color: white;}#sk-container-id-3 div.sk-parallel-item:first-child::after {align-self: flex-end;width: 50%;}#sk-container-id-3 div.sk-parallel-item:last-child::after {align-self: flex-start;width: 50%;}#sk-container-id-3 div.sk-parallel-item:only-child::after {width: 0;}#sk-container-id-3 div.sk-dashed-wrapped {border: 1px dashed gray;margin: 0 0.4em 0.5em 0.4em;box-sizing: border-box;padding-bottom: 0.4em;background-color: white;}#sk-container-id-3 div.sk-label label {font-family: monospace;font-weight: bold;display: inline-block;line-height: 1.2em;}#sk-container-id-3 div.sk-label-container {text-align: center;}#sk-container-id-3 div.sk-container {/* jupyter's `normalize.less` sets `[hidden] { display: none; }` but bootstrap.min.css set `[hidden] { display: none !important; }` so we also need the `!important` here to be able to override the default hidden behavior on the sphinx rendered scikit-learn.org. See: https://github.com/scikit-learn/scikit-learn/issues/21755 */display: inline-block !important;position: relative;}#sk-container-id-3 div.sk-text-repr-fallback {display: none;}</style><div id=\"sk-container-id-3\" class=\"sk-top-container\"><div class=\"sk-text-repr-fallback\"><pre>LogisticRegression()</pre><b>In a Jupyter environment, please rerun this cell to show the HTML representation or trust the notebook. <br />On GitHub, the HTML representation is unable to render, please try loading this page with nbviewer.org.</b></div><div class=\"sk-container\" hidden><div class=\"sk-item\"><div class=\"sk-estimator sk-toggleable\"><input class=\"sk-toggleable__control sk-hidden--visually\" id=\"sk-estimator-id-3\" type=\"checkbox\" checked><label for=\"sk-estimator-id-3\" class=\"sk-toggleable__label sk-toggleable__label-arrow\">LogisticRegression</label><div class=\"sk-toggleable__content\"><pre>LogisticRegression()</pre></div></div></div></div></div>"
      ],
      "text/plain": [
       "LogisticRegression()"
      ]
     },
     "execution_count": 112,
     "metadata": {},
     "output_type": "execute_result"
    }
   ],
   "source": [
    "# Create a logistic regression model and train it on the training data\n",
    "\n",
    "model = LogisticRegression()\n",
    "model.fit(X_train_features, Y_train)"
   ]
  },
  {
   "cell_type": "markdown",
   "metadata": {},
   "source": [
    "## **Model Evaluation and Prediction** "
   ]
  },
  {
   "cell_type": "code",
   "execution_count": 113,
   "metadata": {
    "execution": {
     "iopub.execute_input": "2023-09-14T15:17:45.517046Z",
     "iopub.status.busy": "2023-09-14T15:17:45.516637Z",
     "iopub.status.idle": "2023-09-14T15:17:45.524723Z",
     "shell.execute_reply": "2023-09-14T15:17:45.523442Z",
     "shell.execute_reply.started": "2023-09-14T15:17:45.517005Z"
    }
   },
   "outputs": [],
   "source": [
    "# Make predictions on the training data and calculate the accuracy\n",
    "\n",
    "prediction_on_training_data = model.predict(X_train_features)\n",
    "accuracy_on_training_data = accuracy_score(Y_train, prediction_on_training_data)"
   ]
  },
  {
   "cell_type": "code",
   "execution_count": 114,
   "metadata": {
    "execution": {
     "iopub.execute_input": "2023-09-14T15:17:58.998568Z",
     "iopub.status.busy": "2023-09-14T15:17:58.99816Z",
     "iopub.status.idle": "2023-09-14T15:17:59.004636Z",
     "shell.execute_reply": "2023-09-14T15:17:59.003274Z",
     "shell.execute_reply.started": "2023-09-14T15:17:58.998534Z"
    }
   },
   "outputs": [
    {
     "name": "stdout",
     "output_type": "stream",
     "text": [
      "Accuracy on training data: 0.9613059250302297\n"
     ]
    }
   ],
   "source": [
    "print(\"Accuracy on training data:\",accuracy_on_training_data)"
   ]
  },
  {
   "cell_type": "code",
   "execution_count": 115,
   "metadata": {
    "execution": {
     "iopub.execute_input": "2023-09-14T15:18:12.019951Z",
     "iopub.status.busy": "2023-09-14T15:18:12.019577Z",
     "iopub.status.idle": "2023-09-14T15:18:12.027599Z",
     "shell.execute_reply": "2023-09-14T15:18:12.0263Z",
     "shell.execute_reply.started": "2023-09-14T15:18:12.019922Z"
    }
   },
   "outputs": [],
   "source": [
    "# Make predictions on the test data and calculate the accuracy\n",
    "\n",
    "prediction_on_test_data = model.predict(X_test_features)\n",
    "accuracy_on_test_data = accuracy_score(Y_test,prediction_on_test_data)"
   ]
  },
  {
   "cell_type": "code",
   "execution_count": 116,
   "metadata": {
    "execution": {
     "iopub.execute_input": "2023-09-14T15:18:21.100643Z",
     "iopub.status.busy": "2023-09-14T15:18:21.10025Z",
     "iopub.status.idle": "2023-09-14T15:18:21.107079Z",
     "shell.execute_reply": "2023-09-14T15:18:21.104782Z",
     "shell.execute_reply.started": "2023-09-14T15:18:21.100612Z"
    }
   },
   "outputs": [
    {
     "name": "stdout",
     "output_type": "stream",
     "text": [
      "Accuracy on test data: 0.9642166344294004\n"
     ]
    }
   ],
   "source": [
    "print(\"Accuracy on test data:\",accuracy_on_test_data)\n"
   ]
  },
  {
   "cell_type": "code",
   "execution_count": 117,
   "metadata": {
    "execution": {
     "iopub.execute_input": "2023-09-14T15:20:47.395539Z",
     "iopub.status.busy": "2023-09-14T15:20:47.395078Z",
     "iopub.status.idle": "2023-09-14T15:20:47.404198Z",
     "shell.execute_reply": "2023-09-14T15:20:47.40303Z",
     "shell.execute_reply.started": "2023-09-14T15:20:47.395504Z"
    }
   },
   "outputs": [
    {
     "name": "stdout",
     "output_type": "stream",
     "text": [
      "Spam Mail\n"
     ]
    }
   ],
   "source": [
    "# Test the model with some custom email messages\n",
    "\n",
    "input_mail = [\"Congratulations! You've won a free vacation to an exotic island. Just click on the link below to claim your prize.\"]\n",
    "input_data_features = feature_extraction.transform(input_mail)\n",
    "prediction = model.predict(input_data_features)\n",
    "\n",
    "if (prediction)[0] == 1:\n",
    "    print(\"Ham Mail\")\n",
    "else:\n",
    "    print(\"Spam Mail\")"
   ]
  },
  {
   "cell_type": "code",
   "execution_count": 118,
   "metadata": {
    "execution": {
     "iopub.execute_input": "2023-09-14T15:23:03.729584Z",
     "iopub.status.busy": "2023-09-14T15:23:03.729175Z",
     "iopub.status.idle": "2023-09-14T15:23:03.73885Z",
     "shell.execute_reply": "2023-09-14T15:23:03.737379Z",
     "shell.execute_reply.started": "2023-09-14T15:23:03.729552Z"
    }
   },
   "outputs": [
    {
     "name": "stdout",
     "output_type": "stream",
     "text": [
      "Ham Mail\n"
     ]
    }
   ],
   "source": [
    "input_mail = [\"This is a friendly reminder about our meeting scheduled for tomorrow at 10:00 AM in the conference room. Please make sure to prepare your presentation and bring any necessary materials.\"]\n",
    "input_data_features = feature_extraction.transform(input_mail)\n",
    "prediction = model.predict(input_data_features)\n",
    "\n",
    "if (prediction)[0] == 1:\n",
    "    print(\"Ham Mail\")\n",
    "else:\n",
    "    print(\"Spam Mail\")"
   ]
  },
  {
   "cell_type": "code",
   "execution_count": 119,
   "metadata": {
    "execution": {
     "iopub.execute_input": "2023-09-14T15:23:08.299696Z",
     "iopub.status.busy": "2023-09-14T15:23:08.299267Z",
     "iopub.status.idle": "2023-09-14T15:23:08.477464Z",
     "shell.execute_reply": "2023-09-14T15:23:08.476124Z",
     "shell.execute_reply.started": "2023-09-14T15:23:08.299664Z"
    }
   },
   "outputs": [
    {
     "data": {
      "image/png": "[encoded data removed]",
      "text/plain": [
       "<Figure size 600x400 with 1 Axes>"
      ]
     },
     "metadata": {},
     "output_type": "display_data"
    }
   ],
   "source": [
    "# Data visualization - Confusion Matrix\n",
    "\n",
    "cm = confusion_matrix(Y_test, prediction_on_test_data)\n",
    "\n",
    "plt.figure(figsize=(6, 4))\n",
    "sns.heatmap(cm, annot=True, fmt=\"d\", cmap='Blues', cbar=False)\n",
    "plt.xlabel('Predicted')\n",
    "plt.ylabel('True')\n",
    "plt.title('Confusion Matrix')\n",
    "plt.show()"
   ]
  },
  {
   "cell_type": "code",
   "execution_count": 120,
   "metadata": {
    "execution": {
     "iopub.execute_input": "2023-09-14T15:24:33.178931Z",
     "iopub.status.busy": "2023-09-14T15:24:33.178538Z",
     "iopub.status.idle": "2023-09-14T15:24:33.483813Z",
     "shell.execute_reply": "2023-09-14T15:24:33.482728Z",
     "shell.execute_reply.started": "2023-09-14T15:24:33.178898Z"
    }
   },
   "outputs": [
    {
     "data": {
      "image/png": "[encoded data removed]",
      "text/plain": [
       "<Figure size 1000x600 with 1 Axes>"
      ]
     },
     "metadata": {},
     "output_type": "display_data"
    }
   ],
   "source": [
    "# Data visualization - Top 10 Most Common Words in Spam Emails\n",
    "\n",
    "stop_words = set(stopwords.words('english'))\n",
    "spam_words = \" \".join(df[df['Category'] == 0]['Message']).split()\n",
    "ham_words = \" \".join(df[df['Category'] == 1]['Message']).split()\n",
    "\n",
    "spam_word_freq = Counter([word.lower() for word in spam_words if word.lower() not in stop_words and word.isalpha()])\n",
    "\n",
    "plt.figure(figsize=(10, 6))\n",
    "plt.bar(*zip(*spam_word_freq.most_common(10)), color='g')\n",
    "plt.xlabel('Words')\n",
    "plt.ylabel('Frequency')\n",
    "plt.title('Top 10 Most Common Words in Spam Emails')\n",
    "plt.xticks(rotation=45)\n",
    "plt.show()"
   ]
  },
  {
   "cell_type": "code",
   "execution_count": 121,
   "metadata": {
    "execution": {
     "iopub.execute_input": "2023-09-14T15:26:17.903419Z",
     "iopub.status.busy": "2023-09-14T15:26:17.902973Z",
     "iopub.status.idle": "2023-09-14T15:26:18.228256Z",
     "shell.execute_reply": "2023-09-14T15:26:18.226961Z",
     "shell.execute_reply.started": "2023-09-14T15:26:17.903382Z"
    }
   },
   "outputs": [
    {
     "data": {
      "image/png": "[encoded data removed]",
      "text/plain": [
       "<Figure size 1000x600 with 1 Axes>"
      ]
     },
     "metadata": {},
     "output_type": "display_data"
    }
   ],
   "source": [
    "# Data visualization - Top 10 Most Common Words in Ham Emails\n",
    "\n",
    "ham_word_freq = Counter([word.lower() for word in ham_words if word.lower() not in stop_words and word.isalpha()])\n",
    "\n",
    "plt.figure(figsize=(10, 6))\n",
    "plt.bar(*zip(*ham_word_freq.most_common(10)), color='maroon')\n",
    "plt.xlabel('Words')\n",
    "plt.ylabel('Frequency')\n",
    "plt.title('Top 10 Most Common Words in Ham Emails')\n",
    "plt.xticks(rotation=45)\n",
    "plt.show()"
   ]
  }
 ],
 "metadata": {
  "kernelspec": {
   "display_name": "Python 3 (ipykernel)",
   "language": "python",
   "name": "python3"
  },
  "language_info": {
   "codemirror_mode": {
    "name": "ipython",
    "version": 3
   },
   "file_extension": ".py",
   "mimetype": "text/x-python",
   "name": "python",
   "nbconvert_exporter": "python",
   "pygments_lexer": "ipython3",
   "version": "3.11.4"
  }
 },
 "nbformat": 4,
 "nbformat_minor": 4
}
